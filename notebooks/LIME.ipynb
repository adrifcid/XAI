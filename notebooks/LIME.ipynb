{
 "cells": [
  {
   "cell_type": "code",
   "execution_count": 8,
   "metadata": {
    "colab": {
     "base_uri": "https://localhost:8080/",
     "height": 1000
    },
    "id": "uX-gp4yPKdwy",
    "outputId": "0688c5f3-4a2e-4340-fbfc-1a07bd60e6e7"
   },
   "outputs": [
    {
     "name": "stdout",
     "output_type": "stream",
     "text": [
      "Collecting interpret\n",
      "  Downloading https://files.pythonhosted.org/packages/4c/4a/df3e0d4c47ca7e5734b726d19b2ce43312e46bb0976b475e1b7049265760/interpret-0.2.2-py3-none-any.whl\n",
      "Collecting interpret-core[dash,debug,decisiontree,ebm,lime,linear,notebook,plotly,required,sensitivity,shap,treeinterpreter]>=0.2.2\n",
      "\u001b[?25l  Downloading https://files.pythonhosted.org/packages/e0/f4/b3cd256fae2559c83b9b1d6fcf500d18acf21deec6c4efccc7b52ad62fd7/interpret_core-0.2.2-py3-none-any.whl (5.2MB)\n",
      "\u001b[K     |████████████████████████████████| 5.2MB 5.3MB/s \n",
      "\u001b[?25hCollecting gevent>=1.3.6; extra == \"dash\"\n",
      "\u001b[?25l  Downloading https://files.pythonhosted.org/packages/98/d9/6811589dd5de85b3a911d547d43f43c5c8bdf4397ffdfbaefea7c373b7f6/gevent-20.12.1.tar.gz (5.9MB)\n",
      "\u001b[K     |████████████████████████████████| 5.9MB 31.8MB/s \n",
      "\u001b[?25h  Installing build dependencies ... \u001b[?25l\u001b[?25hdone\n",
      "  Getting requirements to build wheel ... \u001b[?25l\u001b[?25hdone\n",
      "    Preparing wheel metadata ... \u001b[?25l\u001b[?25hdone\n",
      "Collecting dash-table>=4.1.0; extra == \"dash\"\n",
      "\u001b[?25l  Downloading https://files.pythonhosted.org/packages/79/4b/de20584b7dc82dc6e572e8b596d21b1c6e39f13d19e8c9e6f1d67bed67fd/dash_table-4.11.1.tar.gz (1.8MB)\n",
      "\u001b[K     |████████████████████████████████| 1.8MB 48.8MB/s \n",
      "\u001b[?25hCollecting dash>=1.0.0; extra == \"dash\"\n",
      "\u001b[?25l  Downloading https://files.pythonhosted.org/packages/dd/17/55244363969638edd1151de0ea4aa10e6a7849b42d7d0994e3082514e19d/dash-1.18.1.tar.gz (74kB)\n",
      "\u001b[K     |████████████████████████████████| 81kB 10.2MB/s \n",
      "\u001b[?25hCollecting dash-cytoscape>=0.1.1; extra == \"dash\"\n",
      "\u001b[?25l  Downloading https://files.pythonhosted.org/packages/a1/98/93b356b47aca71d4fb1065990137b6b75eb527e8d1cd0e87dc037cead113/dash_cytoscape-0.2.0.tar.gz (3.6MB)\n",
      "\u001b[K     |████████████████████████████████| 3.6MB 50.0MB/s \n",
      "\u001b[?25hRequirement already satisfied: requests>=2.19.0; extra == \"dash\" in /usr/local/lib/python3.6/dist-packages (from interpret-core[dash,debug,decisiontree,ebm,lime,linear,notebook,plotly,required,sensitivity,shap,treeinterpreter]>=0.2.2->interpret) (2.23.0)\n",
      "Collecting psutil>=5.6.2; extra == \"debug\"\n",
      "\u001b[?25l  Downloading https://files.pythonhosted.org/packages/da/82/56cd16a4c5f53e3e5dd7b2c30d5c803e124f218ebb644ca9c30bc907eadd/psutil-5.8.0-cp36-cp36m-manylinux2010_x86_64.whl (291kB)\n",
      "\u001b[K     |████████████████████████████████| 296kB 55.2MB/s \n",
      "\u001b[?25hRequirement already satisfied: joblib>=0.11; extra == \"decisiontree\" in /usr/local/lib/python3.6/dist-packages (from interpret-core[dash,debug,decisiontree,ebm,lime,linear,notebook,plotly,required,sensitivity,shap,treeinterpreter]>=0.2.2->interpret) (1.0.0)\n",
      "Collecting lime>=0.1.1.33; extra == \"lime\"\n",
      "\u001b[?25l  Downloading https://files.pythonhosted.org/packages/f5/86/91a13127d83d793ecb50eb75e716f76e6eda809b6803c5a4ff462339789e/lime-0.2.0.1.tar.gz (275kB)\n",
      "\u001b[K     |████████████████████████████████| 276kB 53.1MB/s \n",
      "\u001b[?25hCollecting ipython>=7.4.0; extra == \"notebook\"\n",
      "\u001b[?25l  Downloading https://files.pythonhosted.org/packages/23/6a/210816c943c9aeeb29e4e18a298f14bf0e118fe222a23e13bfcc2d41b0a4/ipython-7.16.1-py3-none-any.whl (785kB)\n",
      "\u001b[K     |████████████████████████████████| 788kB 48.9MB/s \n",
      "\u001b[?25hCollecting ipykernel>=5.1.0; extra == \"notebook\"\n",
      "\u001b[?25l  Downloading https://files.pythonhosted.org/packages/56/c5/97a972202414c79c28814b1450a31a89777638fb3524e8b5b686a5436abe/ipykernel-5.4.2-py3-none-any.whl (119kB)\n",
      "\u001b[K     |████████████████████████████████| 122kB 58.9MB/s \n",
      "\u001b[?25hRequirement already satisfied: plotly>=3.8.1; extra == \"plotly\" in /usr/local/lib/python3.6/dist-packages (from interpret-core[dash,debug,decisiontree,ebm,lime,linear,notebook,plotly,required,sensitivity,shap,treeinterpreter]>=0.2.2->interpret) (4.4.1)\n",
      "Requirement already satisfied: scikit-learn>=0.18.1; extra == \"required\" in /usr/local/lib/python3.6/dist-packages (from interpret-core[dash,debug,decisiontree,ebm,lime,linear,notebook,plotly,required,sensitivity,shap,treeinterpreter]>=0.2.2->interpret) (0.22.2.post1)\n",
      "Requirement already satisfied: scipy>=0.18.1; extra == \"required\" in /usr/local/lib/python3.6/dist-packages (from interpret-core[dash,debug,decisiontree,ebm,lime,linear,notebook,plotly,required,sensitivity,shap,treeinterpreter]>=0.2.2->interpret) (1.4.1)\n",
      "Requirement already satisfied: pandas>=0.19.2; extra == \"required\" in /usr/local/lib/python3.6/dist-packages (from interpret-core[dash,debug,decisiontree,ebm,lime,linear,notebook,plotly,required,sensitivity,shap,treeinterpreter]>=0.2.2->interpret) (1.1.5)\n",
      "Requirement already satisfied: numpy>=1.11.1; extra == \"required\" in /usr/local/lib/python3.6/dist-packages (from interpret-core[dash,debug,decisiontree,ebm,lime,linear,notebook,plotly,required,sensitivity,shap,treeinterpreter]>=0.2.2->interpret) (1.19.4)\n",
      "Collecting SALib>=1.3.3; extra == \"sensitivity\"\n",
      "\u001b[?25l  Downloading https://files.pythonhosted.org/packages/ba/36/84735444f4faded327e1158ed15228a3ff57268f351c799f0038ee68b53f/SALib-1.3.12.tar.gz (855kB)\n",
      "\u001b[K     |████████████████████████████████| 860kB 49.0MB/s \n",
      "\u001b[?25hRequirement already satisfied: dill>=0.2.5; extra == \"shap\" in /usr/local/lib/python3.6/dist-packages (from interpret-core[dash,debug,decisiontree,ebm,lime,linear,notebook,plotly,required,sensitivity,shap,treeinterpreter]>=0.2.2->interpret) (0.3.3)\n",
      "Collecting shap>=0.28.5; extra == \"shap\"\n",
      "\u001b[?25l  Downloading https://files.pythonhosted.org/packages/85/a3/c0eab9dd6a894165e2cb87504ff5b2710ac5ede3447d9138620b7341b6a2/shap-0.37.0.tar.gz (326kB)\n",
      "\u001b[K     |████████████████████████████████| 327kB 52.5MB/s \n",
      "\u001b[?25hCollecting treeinterpreter>=0.2.2; extra == \"treeinterpreter\"\n",
      "  Downloading https://files.pythonhosted.org/packages/56/cb/78ec761719d2546d4bb75ec02773d01c0a0e8229fe3f8edf6a6ac961e24e/treeinterpreter-0.2.2-py2.py3-none-any.whl\n",
      "Collecting greenlet<2.0,>=0.4.17; platform_python_implementation == \"CPython\"\n",
      "  Using cached https://files.pythonhosted.org/packages/80/d0/532e160c777b42f6f393f9de8c88abb8af6c892037c55e4d3a8a211324dd/greenlet-0.4.17-cp36-cp36m-manylinux1_x86_64.whl\n",
      "Requirement already satisfied: setuptools in /usr/local/lib/python3.6/dist-packages (from gevent>=1.3.6; extra == \"dash\"->interpret-core[dash,debug,decisiontree,ebm,lime,linear,notebook,plotly,required,sensitivity,shap,treeinterpreter]>=0.2.2->interpret) (51.0.0)\n",
      "Collecting zope.interface\n",
      "\u001b[?25l  Downloading https://files.pythonhosted.org/packages/82/b0/da8afd9b3bd50c7665ecdac062f182982af1173c9081f9af7261091c5588/zope.interface-5.2.0-cp36-cp36m-manylinux2010_x86_64.whl (236kB)\n",
      "\u001b[K     |████████████████████████████████| 245kB 56.4MB/s \n",
      "\u001b[?25hCollecting zope.event\n",
      "  Downloading https://files.pythonhosted.org/packages/9e/85/b45408c64f3b888976f1d5b37eed8d746b8d5729a66a49ec846fda27d371/zope.event-4.5.0-py2.py3-none-any.whl\n",
      "Requirement already satisfied: Flask>=1.0.4 in /usr/local/lib/python3.6/dist-packages (from dash>=1.0.0; extra == \"dash\"->interpret-core[dash,debug,decisiontree,ebm,lime,linear,notebook,plotly,required,sensitivity,shap,treeinterpreter]>=0.2.2->interpret) (1.1.2)\n",
      "Collecting flask-compress\n",
      "  Downloading https://files.pythonhosted.org/packages/b2/7a/9c4641f975fb9daaf945dc39da6a52fd5693ab3bbc2d53780eab3b5106f4/Flask_Compress-1.8.0-py3-none-any.whl\n",
      "Collecting dash_renderer==1.8.3\n",
      "\u001b[?25l  Downloading https://files.pythonhosted.org/packages/72/fe/59a322edb128ad15205002c7b81e3f5e580f6791c4a100183289e05dbfcb/dash_renderer-1.8.3.tar.gz (1.0MB)\n",
      "\u001b[K     |████████████████████████████████| 1.0MB 45.8MB/s \n",
      "\u001b[?25hCollecting dash-core-components==1.14.1\n",
      "\u001b[?25l  Downloading https://files.pythonhosted.org/packages/0f/ab/5ffeeed41117383d02485f5b9204dcfaa074bfbb3ff2559afac7b904ad5c/dash_core_components-1.14.1.tar.gz (3.5MB)\n",
      "\u001b[K     |████████████████████████████████| 3.5MB 46.7MB/s \n",
      "\u001b[?25hCollecting dash-html-components==1.1.1\n",
      "\u001b[?25l  Downloading https://files.pythonhosted.org/packages/02/ba/bb9427c62feb25bfbaf243894eeeb4e7c67a92b426ed0575a167100e436e/dash_html_components-1.1.1.tar.gz (188kB)\n",
      "\u001b[K     |████████████████████████████████| 194kB 55.8MB/s \n",
      "\u001b[?25hRequirement already satisfied: future in /usr/local/lib/python3.6/dist-packages (from dash>=1.0.0; extra == \"dash\"->interpret-core[dash,debug,decisiontree,ebm,lime,linear,notebook,plotly,required,sensitivity,shap,treeinterpreter]>=0.2.2->interpret) (0.16.0)\n",
      "Requirement already satisfied: urllib3!=1.25.0,!=1.25.1,<1.26,>=1.21.1 in /usr/local/lib/python3.6/dist-packages (from requests>=2.19.0; extra == \"dash\"->interpret-core[dash,debug,decisiontree,ebm,lime,linear,notebook,plotly,required,sensitivity,shap,treeinterpreter]>=0.2.2->interpret) (1.24.3)\n",
      "Requirement already satisfied: chardet<4,>=3.0.2 in /usr/local/lib/python3.6/dist-packages (from requests>=2.19.0; extra == \"dash\"->interpret-core[dash,debug,decisiontree,ebm,lime,linear,notebook,plotly,required,sensitivity,shap,treeinterpreter]>=0.2.2->interpret) (3.0.4)\n",
      "Requirement already satisfied: certifi>=2017.4.17 in /usr/local/lib/python3.6/dist-packages (from requests>=2.19.0; extra == \"dash\"->interpret-core[dash,debug,decisiontree,ebm,lime,linear,notebook,plotly,required,sensitivity,shap,treeinterpreter]>=0.2.2->interpret) (2020.12.5)\n",
      "Requirement already satisfied: idna<3,>=2.5 in /usr/local/lib/python3.6/dist-packages (from requests>=2.19.0; extra == \"dash\"->interpret-core[dash,debug,decisiontree,ebm,lime,linear,notebook,plotly,required,sensitivity,shap,treeinterpreter]>=0.2.2->interpret) (2.10)\n",
      "Requirement already satisfied: matplotlib in /usr/local/lib/python3.6/dist-packages (from lime>=0.1.1.33; extra == \"lime\"->interpret-core[dash,debug,decisiontree,ebm,lime,linear,notebook,plotly,required,sensitivity,shap,treeinterpreter]>=0.2.2->interpret) (3.2.2)\n",
      "Requirement already satisfied: tqdm in /usr/local/lib/python3.6/dist-packages (from lime>=0.1.1.33; extra == \"lime\"->interpret-core[dash,debug,decisiontree,ebm,lime,linear,notebook,plotly,required,sensitivity,shap,treeinterpreter]>=0.2.2->interpret) (4.41.1)\n",
      "Requirement already satisfied: scikit-image>=0.12 in /usr/local/lib/python3.6/dist-packages (from lime>=0.1.1.33; extra == \"lime\"->interpret-core[dash,debug,decisiontree,ebm,lime,linear,notebook,plotly,required,sensitivity,shap,treeinterpreter]>=0.2.2->interpret) (0.16.2)\n",
      "Requirement already satisfied: pygments in /usr/local/lib/python3.6/dist-packages (from ipython>=7.4.0; extra == \"notebook\"->interpret-core[dash,debug,decisiontree,ebm,lime,linear,notebook,plotly,required,sensitivity,shap,treeinterpreter]>=0.2.2->interpret) (2.6.1)\n",
      "Requirement already satisfied: backcall in /usr/local/lib/python3.6/dist-packages (from ipython>=7.4.0; extra == \"notebook\"->interpret-core[dash,debug,decisiontree,ebm,lime,linear,notebook,plotly,required,sensitivity,shap,treeinterpreter]>=0.2.2->interpret) (0.2.0)\n",
      "Requirement already satisfied: pickleshare in /usr/local/lib/python3.6/dist-packages (from ipython>=7.4.0; extra == \"notebook\"->interpret-core[dash,debug,decisiontree,ebm,lime,linear,notebook,plotly,required,sensitivity,shap,treeinterpreter]>=0.2.2->interpret) (0.7.5)\n",
      "Requirement already satisfied: traitlets>=4.2 in /usr/local/lib/python3.6/dist-packages (from ipython>=7.4.0; extra == \"notebook\"->interpret-core[dash,debug,decisiontree,ebm,lime,linear,notebook,plotly,required,sensitivity,shap,treeinterpreter]>=0.2.2->interpret) (4.3.3)\n",
      "Requirement already satisfied: pexpect; sys_platform != \"win32\" in /usr/local/lib/python3.6/dist-packages (from ipython>=7.4.0; extra == \"notebook\"->interpret-core[dash,debug,decisiontree,ebm,lime,linear,notebook,plotly,required,sensitivity,shap,treeinterpreter]>=0.2.2->interpret) (4.8.0)\n",
      "Collecting prompt-toolkit!=3.0.0,!=3.0.1,<3.1.0,>=2.0.0\n",
      "\u001b[?25l  Downloading https://files.pythonhosted.org/packages/f7/11/153bde8264af33aacf10da4fa5f464e595a3b61e490bfb9acb2431f552e5/prompt_toolkit-3.0.9-py3-none-any.whl (355kB)\n",
      "\u001b[K     |████████████████████████████████| 358kB 52.5MB/s \n",
      "\u001b[?25hRequirement already satisfied: jedi>=0.10 in /usr/local/lib/python3.6/dist-packages (from ipython>=7.4.0; extra == \"notebook\"->interpret-core[dash,debug,decisiontree,ebm,lime,linear,notebook,plotly,required,sensitivity,shap,treeinterpreter]>=0.2.2->interpret) (0.17.2)\n",
      "Requirement already satisfied: decorator in /usr/local/lib/python3.6/dist-packages (from ipython>=7.4.0; extra == \"notebook\"->interpret-core[dash,debug,decisiontree,ebm,lime,linear,notebook,plotly,required,sensitivity,shap,treeinterpreter]>=0.2.2->interpret) (4.4.2)\n",
      "Requirement already satisfied: tornado>=4.2 in /usr/local/lib/python3.6/dist-packages (from ipykernel>=5.1.0; extra == \"notebook\"->interpret-core[dash,debug,decisiontree,ebm,lime,linear,notebook,plotly,required,sensitivity,shap,treeinterpreter]>=0.2.2->interpret) (5.1.1)\n",
      "Requirement already satisfied: jupyter-client in /usr/local/lib/python3.6/dist-packages (from ipykernel>=5.1.0; extra == \"notebook\"->interpret-core[dash,debug,decisiontree,ebm,lime,linear,notebook,plotly,required,sensitivity,shap,treeinterpreter]>=0.2.2->interpret) (5.3.5)\n",
      "Requirement already satisfied: six in /usr/local/lib/python3.6/dist-packages (from plotly>=3.8.1; extra == \"plotly\"->interpret-core[dash,debug,decisiontree,ebm,lime,linear,notebook,plotly,required,sensitivity,shap,treeinterpreter]>=0.2.2->interpret) (1.15.0)\n",
      "Requirement already satisfied: retrying>=1.3.3 in /usr/local/lib/python3.6/dist-packages (from plotly>=3.8.1; extra == \"plotly\"->interpret-core[dash,debug,decisiontree,ebm,lime,linear,notebook,plotly,required,sensitivity,shap,treeinterpreter]>=0.2.2->interpret) (1.3.3)\n",
      "Requirement already satisfied: python-dateutil>=2.7.3 in /usr/local/lib/python3.6/dist-packages (from pandas>=0.19.2; extra == \"required\"->interpret-core[dash,debug,decisiontree,ebm,lime,linear,notebook,plotly,required,sensitivity,shap,treeinterpreter]>=0.2.2->interpret) (2.8.1)\n",
      "Requirement already satisfied: pytz>=2017.2 in /usr/local/lib/python3.6/dist-packages (from pandas>=0.19.2; extra == \"required\"->interpret-core[dash,debug,decisiontree,ebm,lime,linear,notebook,plotly,required,sensitivity,shap,treeinterpreter]>=0.2.2->interpret) (2018.9)\n",
      "Collecting slicer==0.0.3\n",
      "  Downloading https://files.pythonhosted.org/packages/02/a6/c708c5a0f338e99cfbcb6288b88794525548e4fc1b8457feec2c552a81a4/slicer-0.0.3-py3-none-any.whl\n",
      "Requirement already satisfied: numba in /usr/local/lib/python3.6/dist-packages (from shap>=0.28.5; extra == \"shap\"->interpret-core[dash,debug,decisiontree,ebm,lime,linear,notebook,plotly,required,sensitivity,shap,treeinterpreter]>=0.2.2->interpret) (0.48.0)\n",
      "Requirement already satisfied: itsdangerous>=0.24 in /usr/local/lib/python3.6/dist-packages (from Flask>=1.0.4->dash>=1.0.0; extra == \"dash\"->interpret-core[dash,debug,decisiontree,ebm,lime,linear,notebook,plotly,required,sensitivity,shap,treeinterpreter]>=0.2.2->interpret) (1.1.0)\n",
      "Requirement already satisfied: click>=5.1 in /usr/local/lib/python3.6/dist-packages (from Flask>=1.0.4->dash>=1.0.0; extra == \"dash\"->interpret-core[dash,debug,decisiontree,ebm,lime,linear,notebook,plotly,required,sensitivity,shap,treeinterpreter]>=0.2.2->interpret) (7.1.2)\n",
      "Requirement already satisfied: Werkzeug>=0.15 in /usr/local/lib/python3.6/dist-packages (from Flask>=1.0.4->dash>=1.0.0; extra == \"dash\"->interpret-core[dash,debug,decisiontree,ebm,lime,linear,notebook,plotly,required,sensitivity,shap,treeinterpreter]>=0.2.2->interpret) (1.0.1)\n",
      "Requirement already satisfied: Jinja2>=2.10.1 in /usr/local/lib/python3.6/dist-packages (from Flask>=1.0.4->dash>=1.0.0; extra == \"dash\"->interpret-core[dash,debug,decisiontree,ebm,lime,linear,notebook,plotly,required,sensitivity,shap,treeinterpreter]>=0.2.2->interpret) (2.11.2)\n",
      "Collecting brotli\n",
      "\u001b[?25l  Downloading https://files.pythonhosted.org/packages/b4/d3/7c98f05b7b9103e2f3a112ba42f269c798155b3e5404fb80bb8f823aaebe/Brotli-1.0.9-cp36-cp36m-manylinux1_x86_64.whl (357kB)\n",
      "\u001b[K     |████████████████████████████████| 358kB 54.3MB/s \n",
      "\u001b[?25hRequirement already satisfied: cycler>=0.10 in /usr/local/lib/python3.6/dist-packages (from matplotlib->lime>=0.1.1.33; extra == \"lime\"->interpret-core[dash,debug,decisiontree,ebm,lime,linear,notebook,plotly,required,sensitivity,shap,treeinterpreter]>=0.2.2->interpret) (0.10.0)\n",
      "Requirement already satisfied: pyparsing!=2.0.4,!=2.1.2,!=2.1.6,>=2.0.1 in /usr/local/lib/python3.6/dist-packages (from matplotlib->lime>=0.1.1.33; extra == \"lime\"->interpret-core[dash,debug,decisiontree,ebm,lime,linear,notebook,plotly,required,sensitivity,shap,treeinterpreter]>=0.2.2->interpret) (2.4.7)\n",
      "Requirement already satisfied: kiwisolver>=1.0.1 in /usr/local/lib/python3.6/dist-packages (from matplotlib->lime>=0.1.1.33; extra == \"lime\"->interpret-core[dash,debug,decisiontree,ebm,lime,linear,notebook,plotly,required,sensitivity,shap,treeinterpreter]>=0.2.2->interpret) (1.3.1)\n",
      "Requirement already satisfied: networkx>=2.0 in /usr/local/lib/python3.6/dist-packages (from scikit-image>=0.12->lime>=0.1.1.33; extra == \"lime\"->interpret-core[dash,debug,decisiontree,ebm,lime,linear,notebook,plotly,required,sensitivity,shap,treeinterpreter]>=0.2.2->interpret) (2.5)\n",
      "Requirement already satisfied: imageio>=2.3.0 in /usr/local/lib/python3.6/dist-packages (from scikit-image>=0.12->lime>=0.1.1.33; extra == \"lime\"->interpret-core[dash,debug,decisiontree,ebm,lime,linear,notebook,plotly,required,sensitivity,shap,treeinterpreter]>=0.2.2->interpret) (2.4.1)\n",
      "Requirement already satisfied: pillow>=4.3.0 in /usr/local/lib/python3.6/dist-packages (from scikit-image>=0.12->lime>=0.1.1.33; extra == \"lime\"->interpret-core[dash,debug,decisiontree,ebm,lime,linear,notebook,plotly,required,sensitivity,shap,treeinterpreter]>=0.2.2->interpret) (7.0.0)\n",
      "Requirement already satisfied: PyWavelets>=0.4.0 in /usr/local/lib/python3.6/dist-packages (from scikit-image>=0.12->lime>=0.1.1.33; extra == \"lime\"->interpret-core[dash,debug,decisiontree,ebm,lime,linear,notebook,plotly,required,sensitivity,shap,treeinterpreter]>=0.2.2->interpret) (1.1.1)\n",
      "Requirement already satisfied: ipython-genutils in /usr/local/lib/python3.6/dist-packages (from traitlets>=4.2->ipython>=7.4.0; extra == \"notebook\"->interpret-core[dash,debug,decisiontree,ebm,lime,linear,notebook,plotly,required,sensitivity,shap,treeinterpreter]>=0.2.2->interpret) (0.2.0)\n",
      "Requirement already satisfied: ptyprocess>=0.5 in /usr/local/lib/python3.6/dist-packages (from pexpect; sys_platform != \"win32\"->ipython>=7.4.0; extra == \"notebook\"->interpret-core[dash,debug,decisiontree,ebm,lime,linear,notebook,plotly,required,sensitivity,shap,treeinterpreter]>=0.2.2->interpret) (0.6.0)\n",
      "Requirement already satisfied: wcwidth in /usr/local/lib/python3.6/dist-packages (from prompt-toolkit!=3.0.0,!=3.0.1,<3.1.0,>=2.0.0->ipython>=7.4.0; extra == \"notebook\"->interpret-core[dash,debug,decisiontree,ebm,lime,linear,notebook,plotly,required,sensitivity,shap,treeinterpreter]>=0.2.2->interpret) (0.2.5)\n",
      "Requirement already satisfied: parso<0.8.0,>=0.7.0 in /usr/local/lib/python3.6/dist-packages (from jedi>=0.10->ipython>=7.4.0; extra == \"notebook\"->interpret-core[dash,debug,decisiontree,ebm,lime,linear,notebook,plotly,required,sensitivity,shap,treeinterpreter]>=0.2.2->interpret) (0.7.1)\n",
      "Requirement already satisfied: pyzmq>=13 in /usr/local/lib/python3.6/dist-packages (from jupyter-client->ipykernel>=5.1.0; extra == \"notebook\"->interpret-core[dash,debug,decisiontree,ebm,lime,linear,notebook,plotly,required,sensitivity,shap,treeinterpreter]>=0.2.2->interpret) (20.0.0)\n",
      "Requirement already satisfied: jupyter-core>=4.6.0 in /usr/local/lib/python3.6/dist-packages (from jupyter-client->ipykernel>=5.1.0; extra == \"notebook\"->interpret-core[dash,debug,decisiontree,ebm,lime,linear,notebook,plotly,required,sensitivity,shap,treeinterpreter]>=0.2.2->interpret) (4.7.0)\n",
      "Requirement already satisfied: llvmlite<0.32.0,>=0.31.0dev0 in /usr/local/lib/python3.6/dist-packages (from numba->shap>=0.28.5; extra == \"shap\"->interpret-core[dash,debug,decisiontree,ebm,lime,linear,notebook,plotly,required,sensitivity,shap,treeinterpreter]>=0.2.2->interpret) (0.31.0)\n",
      "Requirement already satisfied: MarkupSafe>=0.23 in /usr/local/lib/python3.6/dist-packages (from Jinja2>=2.10.1->Flask>=1.0.4->dash>=1.0.0; extra == \"dash\"->interpret-core[dash,debug,decisiontree,ebm,lime,linear,notebook,plotly,required,sensitivity,shap,treeinterpreter]>=0.2.2->interpret) (1.1.1)\n",
      "Building wheels for collected packages: gevent\n",
      "  Building wheel for gevent (PEP 517) ... \u001b[?25l\u001b[?25hdone\n",
      "  Created wheel for gevent: filename=gevent-20.12.1-cp36-cp36m-linux_x86_64.whl size=4514268 sha256=c8b2d460400786291d1ad779b29208199ccc60732246ae853976f66477fe9df7\n",
      "  Stored in directory: /root/.cache/pip/wheels/ff/50/b8/b5e0c7b64d587ee7fd0c1bb9aac40b953fdb2da4e49b7b99db\n",
      "Successfully built gevent\n",
      "Building wheels for collected packages: dash-table, dash, dash-cytoscape, lime, SALib, shap, dash-renderer, dash-core-components, dash-html-components\n",
      "  Building wheel for dash-table (setup.py) ... \u001b[?25l\u001b[?25hdone\n",
      "  Created wheel for dash-table: filename=dash_table-4.11.1-cp36-none-any.whl size=1839869 sha256=86ca20dad92cc9976c57105444783af01c46e77e94c921834cb140cd4ba26b87\n",
      "  Stored in directory: /root/.cache/pip/wheels/53/a0/0e/1105943524ee7060c5c45a22e45c77777a3d8801f2fe49e445\n",
      "  Building wheel for dash (setup.py) ... \u001b[?25l\u001b[?25hdone\n",
      "  Created wheel for dash: filename=dash-1.18.1-cp36-none-any.whl size=83681 sha256=6057d3a747a62d36ae2398bfd5f1e311f51fea5a87353764fef2e3c410a34c3b\n",
      "  Stored in directory: /root/.cache/pip/wheels/eb/56/fb/79b2169ce9fcb79753ec57a16abb8f0b7750b4c63d7eb3cea9\n",
      "  Building wheel for dash-cytoscape (setup.py) ... \u001b[?25l\u001b[?25hdone\n",
      "  Created wheel for dash-cytoscape: filename=dash_cytoscape-0.2.0-cp36-none-any.whl size=3608257 sha256=e0e34a0a81d23e584d85014911ce9e9f746bbae70106dbc7427b398954772dec\n",
      "  Stored in directory: /root/.cache/pip/wheels/4f/1d/23/ab865d134a3af49104ec463cb6b4b8637ce6b763c71d285055\n",
      "  Building wheel for lime (setup.py) ... \u001b[?25l\u001b[?25hdone\n",
      "  Created wheel for lime: filename=lime-0.2.0.1-cp36-none-any.whl size=283846 sha256=d922a86fa6387ceacfb687bddf2d854a650b764d9c1240885544c92cdd3f5ca5\n",
      "  Stored in directory: /root/.cache/pip/wheels/4c/4f/a5/0bc765457bd41378bf3ce8d17d7495369d6e7ca3b712c60c89\n",
      "  Building wheel for SALib (setup.py) ... \u001b[?25l\u001b[?25hdone\n",
      "  Created wheel for SALib: filename=SALib-1.3.12-py2.py3-none-any.whl size=729049 sha256=e09aec1f2ac780d18a891bd16d6606487206f141452fed9f57e6fa58ea83688c\n",
      "  Stored in directory: /root/.cache/pip/wheels/04/5c/9f/09d58ab84d5a7ef7d2e5fedc5cd2f46a64a77c99035571aa0c\n",
      "  Building wheel for shap (setup.py) ... \u001b[?25l\u001b[?25hdone\n",
      "  Created wheel for shap: filename=shap-0.37.0-cp36-cp36m-linux_x86_64.whl size=463916 sha256=4e54b27fa20283d58ec49fa39b603cbdd042d810d7b32a73609809686aadf68f\n",
      "  Stored in directory: /root/.cache/pip/wheels/df/ad/b0/aa7815ec68850d66551ef618095eccb962c8f6022f1d3dd989\n",
      "  Building wheel for dash-renderer (setup.py) ... \u001b[?25l\u001b[?25hdone\n",
      "  Created wheel for dash-renderer: filename=dash_renderer-1.8.3-cp36-none-any.whl size=1013945 sha256=70f2c1d004c43a25cafb78004bb50968bb89701ab651d8e7d540551a4e2ba37d\n",
      "  Stored in directory: /root/.cache/pip/wheels/cf/2b/5f/0928a6d1b7ebf280f21a2e925f36d662e6ba83e00b82c6b6bf\n",
      "  Building wheel for dash-core-components (setup.py) ... \u001b[?25l\u001b[?25hdone\n",
      "  Created wheel for dash-core-components: filename=dash_core_components-1.14.1-cp36-none-any.whl size=3525927 sha256=a09fc6a16943db7dc375a44a63b3fec572ea29c9ea3373dea2daba5624fe2655\n",
      "  Stored in directory: /root/.cache/pip/wheels/e3/20/48/9022e1f2cb2fed4d9925370d0e17cbb3ab1164f3742d9b5e5a\n",
      "  Building wheel for dash-html-components (setup.py) ... \u001b[?25l\u001b[?25hdone\n",
      "  Created wheel for dash-html-components: filename=dash_html_components-1.1.1-cp36-none-any.whl size=427894 sha256=3a710fbd7d1f7e3e88178051ee6e0ff62be3f3f4548166acee8f64dce2cfa15d\n",
      "  Stored in directory: /root/.cache/pip/wheels/8d/01/46/78e4de185a8a4a2da8ba31da16c52170f036d4cebeeb6e07a2\n",
      "Successfully built dash-table dash dash-cytoscape lime SALib shap dash-renderer dash-core-components dash-html-components\n",
      "\u001b[31mERROR: jupyter-console 5.2.0 has requirement prompt-toolkit<2.0.0,>=1.0.0, but you'll have prompt-toolkit 3.0.9 which is incompatible.\u001b[0m\n",
      "\u001b[31mERROR: google-colab 1.0.0 has requirement ipykernel~=4.10, but you'll have ipykernel 5.4.2 which is incompatible.\u001b[0m\n",
      "\u001b[31mERROR: google-colab 1.0.0 has requirement ipython~=5.5.0, but you'll have ipython 7.16.1 which is incompatible.\u001b[0m\n",
      "Installing collected packages: greenlet, zope.interface, zope.event, gevent, dash-table, brotli, flask-compress, dash-renderer, dash-core-components, dash-html-components, dash, dash-cytoscape, psutil, lime, prompt-toolkit, ipython, ipykernel, SALib, slicer, shap, treeinterpreter, interpret-core, interpret\n",
      "  Found existing installation: psutil 5.4.8\n",
      "    Uninstalling psutil-5.4.8:\n",
      "      Successfully uninstalled psutil-5.4.8\n",
      "  Found existing installation: prompt-toolkit 1.0.18\n",
      "    Uninstalling prompt-toolkit-1.0.18:\n",
      "      Successfully uninstalled prompt-toolkit-1.0.18\n",
      "  Found existing installation: ipython 5.5.0\n",
      "    Uninstalling ipython-5.5.0:\n",
      "      Successfully uninstalled ipython-5.5.0\n",
      "  Found existing installation: ipykernel 4.10.1\n",
      "    Uninstalling ipykernel-4.10.1:\n",
      "      Successfully uninstalled ipykernel-4.10.1\n",
      "Successfully installed SALib-1.3.12 brotli-1.0.9 dash-1.18.1 dash-core-components-1.14.1 dash-cytoscape-0.2.0 dash-html-components-1.1.1 dash-renderer-1.8.3 dash-table-4.11.1 flask-compress-1.8.0 gevent-20.12.1 greenlet-0.4.17 interpret-0.2.2 interpret-core-0.2.2 ipykernel-5.4.2 ipython-7.16.1 lime-0.2.0.1 prompt-toolkit-3.0.9 psutil-5.8.0 shap-0.37.0 slicer-0.0.3 treeinterpreter-0.2.2 zope.event-4.5.0 zope.interface-5.2.0\n"
     ]
    },
    {
     "data": {
      "application/vnd.colab-display-data+json": {
       "pip_warning": {
        "packages": [
         "IPython",
         "ipykernel",
         "prompt_toolkit",
         "psutil"
        ]
       }
      }
     },
     "metadata": {
      "tags": []
     },
     "output_type": "display_data"
    }
   ],
   "source": [
    "!pip install interpret # will need to restart runtime"
   ]
  },
  {
   "cell_type": "code",
   "execution_count": 2,
   "metadata": {
    "ExecuteTime": {
     "end_time": "2021-01-05T18:15:59.926007Z",
     "start_time": "2021-01-05T18:15:59.179826Z"
    },
    "colab": {
     "base_uri": "https://localhost:8080/",
     "height": 226
    },
    "id": "tZRSiDYNQLSr",
    "outputId": "1d7cc926-a994-4e7f-bf33-83c1e69789a4"
   },
   "outputs": [
    {
     "data": {
      "text/html": [
       "<div>\n",
       "<style scoped>\n",
       "    .dataframe tbody tr th:only-of-type {\n",
       "        vertical-align: middle;\n",
       "    }\n",
       "\n",
       "    .dataframe tbody tr th {\n",
       "        vertical-align: top;\n",
       "    }\n",
       "\n",
       "    .dataframe thead th {\n",
       "        text-align: right;\n",
       "    }\n",
       "</style>\n",
       "<table border=\"1\" class=\"dataframe\">\n",
       "  <thead>\n",
       "    <tr style=\"text-align: right;\">\n",
       "      <th></th>\n",
       "      <th>B_OWNPV_CHI2</th>\n",
       "      <th>B_IPCHI2_OWNPV</th>\n",
       "      <th>B_FDCHI2_OWNPV</th>\n",
       "      <th>B_DIRA_OWNPV</th>\n",
       "      <th>B_PT</th>\n",
       "      <th>Kst_892_0_IP_OWNPV</th>\n",
       "      <th>Kst_892_0_cosThetaH</th>\n",
       "      <th>Kplus_IP_OWNPV</th>\n",
       "      <th>Kplus_P</th>\n",
       "      <th>piminus_IP_OWNPV</th>\n",
       "      <th>piminus_P</th>\n",
       "      <th>gamma_PT</th>\n",
       "      <th>piminus_ETA</th>\n",
       "      <th>Kplus_ETA</th>\n",
       "      <th>signal</th>\n",
       "    </tr>\n",
       "  </thead>\n",
       "  <tbody>\n",
       "    <tr>\n",
       "      <th>0</th>\n",
       "      <td>28.878847</td>\n",
       "      <td>2.662533</td>\n",
       "      <td>2924.690991</td>\n",
       "      <td>0.999997</td>\n",
       "      <td>19085.568945</td>\n",
       "      <td>0.569198</td>\n",
       "      <td>-0.575502</td>\n",
       "      <td>0.581565</td>\n",
       "      <td>66850.893711</td>\n",
       "      <td>0.637969</td>\n",
       "      <td>14298.486178</td>\n",
       "      <td>7940.694301</td>\n",
       "      <td>2.628526</td>\n",
       "      <td>2.680116</td>\n",
       "      <td>1.0</td>\n",
       "    </tr>\n",
       "    <tr>\n",
       "      <th>1</th>\n",
       "      <td>34.233566</td>\n",
       "      <td>0.092746</td>\n",
       "      <td>346.948714</td>\n",
       "      <td>0.999997</td>\n",
       "      <td>6631.244546</td>\n",
       "      <td>0.248707</td>\n",
       "      <td>-0.615941</td>\n",
       "      <td>0.277898</td>\n",
       "      <td>39274.475071</td>\n",
       "      <td>0.148815</td>\n",
       "      <td>11553.163934</td>\n",
       "      <td>3904.681337</td>\n",
       "      <td>3.292504</td>\n",
       "      <td>3.085754</td>\n",
       "      <td>1.0</td>\n",
       "    </tr>\n",
       "    <tr>\n",
       "      <th>2</th>\n",
       "      <td>36.113632</td>\n",
       "      <td>2.442423</td>\n",
       "      <td>238.553023</td>\n",
       "      <td>0.999986</td>\n",
       "      <td>7740.918989</td>\n",
       "      <td>0.222347</td>\n",
       "      <td>0.249383</td>\n",
       "      <td>0.216576</td>\n",
       "      <td>27757.153899</td>\n",
       "      <td>0.249840</td>\n",
       "      <td>24081.196003</td>\n",
       "      <td>4738.891687</td>\n",
       "      <td>3.433676</td>\n",
       "      <td>3.121906</td>\n",
       "      <td>1.0</td>\n",
       "    </tr>\n",
       "    <tr>\n",
       "      <th>3</th>\n",
       "      <td>14.286133</td>\n",
       "      <td>6.337556</td>\n",
       "      <td>227.375132</td>\n",
       "      <td>0.999806</td>\n",
       "      <td>6740.281614</td>\n",
       "      <td>0.347316</td>\n",
       "      <td>0.591884</td>\n",
       "      <td>0.306927</td>\n",
       "      <td>10593.207077</td>\n",
       "      <td>0.400748</td>\n",
       "      <td>11343.521945</td>\n",
       "      <td>3308.943750</td>\n",
       "      <td>2.291867</td>\n",
       "      <td>2.200712</td>\n",
       "      <td>0.0</td>\n",
       "    </tr>\n",
       "    <tr>\n",
       "      <th>4</th>\n",
       "      <td>60.474274</td>\n",
       "      <td>7.632751</td>\n",
       "      <td>106.730650</td>\n",
       "      <td>0.999905</td>\n",
       "      <td>5556.388794</td>\n",
       "      <td>0.204273</td>\n",
       "      <td>0.655850</td>\n",
       "      <td>0.196600</td>\n",
       "      <td>11801.249543</td>\n",
       "      <td>0.223101</td>\n",
       "      <td>25940.693317</td>\n",
       "      <td>4026.326871</td>\n",
       "      <td>3.290073</td>\n",
       "      <td>3.281829</td>\n",
       "      <td>0.0</td>\n",
       "    </tr>\n",
       "  </tbody>\n",
       "</table>\n",
       "</div>"
      ],
      "text/plain": [
       "                      B_OWNPV_CHI2                    B_IPCHI2_OWNPV   \\\n",
       "0                         28.878847                          2.662533   \n",
       "1                         34.233566                          0.092746   \n",
       "2                         36.113632                          2.442423   \n",
       "3                         14.286133                          6.337556   \n",
       "4                         60.474274                          7.632751   \n",
       "\n",
       "                    B_FDCHI2_OWNPV                      B_DIRA_OWNPV   \\\n",
       "0                       2924.690991                          0.999997   \n",
       "1                        346.948714                          0.999997   \n",
       "2                        238.553023                          0.999986   \n",
       "3                        227.375132                          0.999806   \n",
       "4                        106.730650                          0.999905   \n",
       "\n",
       "                              B_PT                Kst_892_0_IP_OWNPV   \\\n",
       "0                      19085.568945                          0.569198   \n",
       "1                       6631.244546                          0.248707   \n",
       "2                       7740.918989                          0.222347   \n",
       "3                       6740.281614                          0.347316   \n",
       "4                       5556.388794                          0.204273   \n",
       "\n",
       "               Kst_892_0_cosThetaH                    Kplus_IP_OWNPV   \\\n",
       "0                         -0.575502                          0.581565   \n",
       "1                         -0.615941                          0.277898   \n",
       "2                          0.249383                          0.216576   \n",
       "3                          0.591884                          0.306927   \n",
       "4                          0.655850                          0.196600   \n",
       "\n",
       "                           Kplus_P                  piminus_IP_OWNPV   \\\n",
       "0                      66850.893711                          0.637969   \n",
       "1                      39274.475071                          0.148815   \n",
       "2                      27757.153899                          0.249840   \n",
       "3                      10593.207077                          0.400748   \n",
       "4                      11801.249543                          0.223101   \n",
       "\n",
       "                         piminus_P                          gamma_PT   \\\n",
       "0                      14298.486178                       7940.694301   \n",
       "1                      11553.163934                       3904.681337   \n",
       "2                      24081.196003                       4738.891687   \n",
       "3                      11343.521945                       3308.943750   \n",
       "4                      25940.693317                       4026.326871   \n",
       "\n",
       "                       piminus_ETA                         Kplus_ETA   signal  \n",
       "0                          2.628526                          2.680116     1.0  \n",
       "1                          3.292504                          3.085754     1.0  \n",
       "2                          3.433676                          3.121906     1.0  \n",
       "3                          2.291867                          2.200712     0.0  \n",
       "4                          3.290073                          3.281829     0.0  "
      ]
     },
     "execution_count": 2,
     "metadata": {},
     "output_type": "execute_result"
    }
   ],
   "source": [
    "# Aquest notebook té 25GB\n",
    "\n",
    "import pandas as pd\n",
    "from sklearn.preprocessing import StandardScaler\n",
    "#from google.colab import files\n",
    "\n",
    "# data_to_load = files.upload() # use to upload data otherwise just upload through 'files'\n",
    "data = pd.read_csv(\"train.csv\")\n",
    "sc = StandardScaler()\n",
    "data.drop([\"Id\", \"BUTTER\"], axis=1, inplace=True)\n",
    "\n",
    "X = sc.fit_transform(data.iloc[:, :-1].values)\n",
    "y = data.iloc[:, -1] \n",
    "\n",
    "data.head()"
   ]
  },
  {
   "cell_type": "code",
   "execution_count": 3,
   "metadata": {
    "ExecuteTime": {
     "end_time": "2021-01-05T18:16:05.056406Z",
     "start_time": "2021-01-05T18:16:02.133016Z"
    },
    "id": "vUD_URowIEXC"
   },
   "outputs": [],
   "source": [
    "from tensorflow import keras\n",
    "from keras.utils import to_categorical\n",
    "#y = to_categorical(y) # not categorical variables in the dataset\n",
    "\n",
    "from sklearn.model_selection import train_test_split\n",
    "X_train,X_test,y_train,y_test = train_test_split(X,y,test_size = 0.3)"
   ]
  },
  {
   "cell_type": "code",
   "execution_count": 4,
   "metadata": {
    "ExecuteTime": {
     "end_time": "2021-01-05T18:16:27.050861Z",
     "start_time": "2021-01-05T18:16:05.065252Z"
    },
    "colab": {
     "base_uri": "https://localhost:8080/"
    },
    "id": "Ho843eR_JBZs",
    "outputId": "bb2eade1-b669-413e-fa9f-76d36b32ffc7"
   },
   "outputs": [
    {
     "data": {
      "text/plain": [
       "Pipeline(steps=[('pca', PCA()), ('rf', RandomForestClassifier(n_jobs=-1))])"
      ]
     },
     "execution_count": 4,
     "metadata": {},
     "output_type": "execute_result"
    }
   ],
   "source": [
    "from sklearn.ensemble import RandomForestClassifier\n",
    "from sklearn.decomposition import PCA\n",
    "from sklearn.pipeline import Pipeline\n",
    "\n",
    "#Blackbox system can include preprocessing, not just a classifier!\n",
    "pca = PCA()\n",
    "rf = RandomForestClassifier(n_estimators=100, n_jobs=-1)\n",
    "\n",
    "blackbox_model = Pipeline([('pca', pca), ('rf', rf)])\n",
    "blackbox_model.fit(X_train, y_train)"
   ]
  },
  {
   "cell_type": "code",
   "execution_count": 5,
   "metadata": {
    "ExecuteTime": {
     "end_time": "2021-01-05T18:16:29.007799Z",
     "start_time": "2021-01-05T18:16:27.053211Z"
    },
    "colab": {
     "base_uri": "https://localhost:8080/",
     "height": 856
    },
    "id": "H0F-zlEJJBTC",
    "outputId": "48d2775e-9349-41aa-f172-9272b75a28cc"
   },
   "outputs": [
    {
     "data": {
      "text/html": [
       "<!-- http://127.0.0.1:7001/140411050650544/ -->\n",
       "<iframe src=\"http://127.0.0.1:7001/140411050650544/\" width=100% height=800 frameBorder=\"0\"></iframe>"
      ]
     },
     "metadata": {},
     "output_type": "display_data"
    }
   ],
   "source": [
    "from interpret import show\n",
    "from interpret.perf import ROC\n",
    "\n",
    "blackbox_perf = ROC(blackbox_model.predict_proba).explain_perf(X_test, y_test, name='Blackbox')\n",
    "show(blackbox_perf)"
   ]
  },
  {
   "cell_type": "code",
   "execution_count": 6,
   "metadata": {
    "ExecuteTime": {
     "end_time": "2021-01-05T18:19:29.529949Z",
     "start_time": "2021-01-05T18:16:29.009900Z"
    },
    "colab": {
     "base_uri": "https://localhost:8080/",
     "height": 788
    },
    "id": "bGDeSQVsJBIh",
    "outputId": "f4321e03-9f08-4bf3-f8a5-c8ada53678da"
   },
   "outputs": [
    {
     "data": {
      "text/html": [
       "<!-- http://127.0.0.1:7001/140411009795696/ -->\n",
       "<iframe src=\"http://127.0.0.1:7001/140411009795696/\" width=100% height=800 frameBorder=\"0\"></iframe>"
      ]
     },
     "metadata": {},
     "output_type": "display_data"
    }
   ],
   "source": [
    "from interpret.blackbox import PartialDependence\n",
    "\n",
    "pdp = PartialDependence(predict_fn=blackbox_model.predict_proba, data=X_train)\n",
    "pdp_global = pdp.explain_global(name='Partial Dependence')\n",
    "\n",
    "show(pdp_global)"
   ]
  },
  {
   "cell_type": "code",
   "execution_count": 7,
   "metadata": {
    "ExecuteTime": {
     "end_time": "2021-01-05T18:19:56.025073Z",
     "start_time": "2021-01-05T18:19:29.533084Z"
    },
    "colab": {
     "base_uri": "https://localhost:8080/",
     "height": 788
    },
    "id": "34IIrP6ENnUi",
    "outputId": "bb48ba54-cc1d-4610-bf46-ba2dd6332caa"
   },
   "outputs": [
    {
     "data": {
      "text/html": [
       "<!-- http://127.0.0.1:7001/140411029223648/ -->\n",
       "<iframe src=\"http://127.0.0.1:7001/140411029223648/\" width=100% height=800 frameBorder=\"0\"></iframe>"
      ]
     },
     "metadata": {},
     "output_type": "display_data"
    }
   ],
   "source": [
    "from interpret.blackbox import LimeTabular\n",
    "from interpret import show\n",
    "\n",
    "#Blackbox explainers need a predict function, and optionally a dataset\n",
    "lime = LimeTabular(\n",
    "      predict_fn=blackbox_model.predict_proba, data=X_train, feature_names=data.columns[:14].tolist(), random_state=1)\n",
    "\n",
    "#Pick the instances to explain, optionally pass in labels if you have them\n",
    "lime_local = lime.explain_local(X_test[:5], y_test[:5], name='LIME')\n",
    "\n",
    "show(lime_local)"
   ]
  },
  {
   "cell_type": "code",
   "execution_count": 10,
   "metadata": {
    "ExecuteTime": {
     "end_time": "2021-01-05T18:21:34.123527Z",
     "start_time": "2021-01-05T18:21:32.263134Z"
    },
    "colab": {
     "base_uri": "https://localhost:8080/",
     "height": 788
    },
    "id": "EKxgSJbgJMaJ",
    "outputId": "d55bfb36-f2ad-42ce-8316-d4b853cf17af"
   },
   "outputs": [
    {
     "data": {
      "application/vnd.jupyter.widget-view+json": {
       "model_id": "4df28fff7d8f4397b779b09eedf7bffe",
       "version_major": 2,
       "version_minor": 0
      },
      "text/plain": [
       "HBox(children=(FloatProgress(value=0.0, max=5.0), HTML(value='')))"
      ]
     },
     "metadata": {},
     "output_type": "display_data"
    },
    {
     "name": "stdout",
     "output_type": "stream",
     "text": [
      "\n"
     ]
    },
    {
     "data": {
      "text/html": [
       "<!-- http://127.0.0.1:7001/140410737129856/ -->\n",
       "<a href=\"http://127.0.0.1:7001/140410737129856/\" target=\"_new\">Open in new window</a><iframe src=\"http://127.0.0.1:7001/140410737129856/\" width=100% height=800 frameBorder=\"0\"></iframe>"
      ]
     },
     "metadata": {},
     "output_type": "display_data"
    }
   ],
   "source": [
    "\n",
    "\n",
    "from interpret.blackbox import ShapKernel\n",
    "import numpy as np\n",
    "\n",
    "background_val = np.median(X_train, axis=0).reshape(1, -1)\n",
    "shap = ShapKernel(predict_fn=blackbox_model.predict_proba, data=background_val, feature_names=data.columns[:14].tolist())\n",
    "shap_local = shap.explain_local(X_test[:5], y_test[:5], name='SHAP')\n",
    "show([lime_local, shap_local])"
   ]
  }
 ],
 "metadata": {
  "colab": {
   "collapsed_sections": [],
   "machine_shape": "hm",
   "name": "LIME.ipynb",
   "provenance": []
  },
  "kernelspec": {
   "display_name": "Python 3",
   "language": "python",
   "name": "python3"
  },
  "language_info": {
   "codemirror_mode": {
    "name": "ipython",
    "version": 3
   },
   "file_extension": ".py",
   "mimetype": "text/x-python",
   "name": "python",
   "nbconvert_exporter": "python",
   "pygments_lexer": "ipython3",
   "version": "3.8.3"
  }
 },
 "nbformat": 4,
 "nbformat_minor": 1
}
