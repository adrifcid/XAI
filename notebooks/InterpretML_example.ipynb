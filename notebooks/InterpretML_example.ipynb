{
 "cells": [
  {
   "cell_type": "markdown",
   "metadata": {},
   "source": [
    "# Example use of InterpletML\n",
    "\n",
    "From the repo:\n",
    "\n",
    "https://github.com/interpretml/interpret\n",
    "\n",
    "namely:\n",
    "\n",
    "https://nbviewer.jupyter.org/github/interpretml/interpret/blob/master/examples/python/notebooks/Explaining%20Blackbox%20Classifiers.ipynb"
   ]
  },
  {
   "cell_type": "code",
   "execution_count": 1,
   "metadata": {
    "colab": {
     "base_uri": "https://localhost:8080/",
     "height": 1000
    },
    "id": "uX-gp4yPKdwy",
    "outputId": "0688c5f3-4a2e-4340-fbfc-1a07bd60e6e7"
   },
   "outputs": [],
   "source": [
    "#!pip install interpret # will need to restart runtime"
   ]
  },
  {
   "cell_type": "markdown",
   "metadata": {},
   "source": [
    "Some imports"
   ]
  },
  {
   "cell_type": "code",
   "execution_count": 2,
   "metadata": {},
   "outputs": [],
   "source": [
    "# Needed to load and preprocess the data  \n",
    "import pandas as pd\n",
    "import numpy as np\n",
    "\n",
    "# Some sklearn tools for preprocessing and building a pipeline\n",
    "from sklearn.pipeline import Pipeline\n",
    "from sklearn.model_selection import train_test_split, GridSearchCV\n",
    "\n",
    "# The algorithm used\n",
    "from xgboost.sklearn import XGBClassifier\n"
   ]
  },
  {
   "cell_type": "markdown",
   "metadata": {},
   "source": [
    "## Data"
   ]
  },
  {
   "cell_type": "code",
   "execution_count": 3,
   "metadata": {
    "ExecuteTime": {
     "end_time": "2021-01-05T18:15:59.926007Z",
     "start_time": "2021-01-05T18:15:59.179826Z"
    },
    "colab": {
     "base_uri": "https://localhost:8080/",
     "height": 226
    },
    "id": "tZRSiDYNQLSr",
    "outputId": "1d7cc926-a994-4e7f-bf33-83c1e69789a4"
   },
   "outputs": [
    {
     "data": {
      "text/html": [
       "<div>\n",
       "<style scoped>\n",
       "    .dataframe tbody tr th:only-of-type {\n",
       "        vertical-align: middle;\n",
       "    }\n",
       "\n",
       "    .dataframe tbody tr th {\n",
       "        vertical-align: top;\n",
       "    }\n",
       "\n",
       "    .dataframe thead th {\n",
       "        text-align: right;\n",
       "    }\n",
       "</style>\n",
       "<table border=\"1\" class=\"dataframe\">\n",
       "  <thead>\n",
       "    <tr style=\"text-align: right;\">\n",
       "      <th></th>\n",
       "      <th>B_OWNPV_CHI2</th>\n",
       "      <th>B_IPCHI2_OWNPV</th>\n",
       "      <th>B_FDCHI2_OWNPV</th>\n",
       "      <th>B_DIRA_OWNPV</th>\n",
       "      <th>B_PT</th>\n",
       "      <th>Kst_892_0_IP_OWNPV</th>\n",
       "      <th>Kst_892_0_cosThetaH</th>\n",
       "      <th>Kplus_IP_OWNPV</th>\n",
       "      <th>Kplus_P</th>\n",
       "      <th>piminus_IP_OWNPV</th>\n",
       "      <th>piminus_P</th>\n",
       "      <th>gamma_PT</th>\n",
       "      <th>piminus_ETA</th>\n",
       "      <th>Kplus_ETA</th>\n",
       "    </tr>\n",
       "  </thead>\n",
       "  <tbody>\n",
       "    <tr>\n",
       "      <th>0</th>\n",
       "      <td>-0.132425</td>\n",
       "      <td>-0.076019</td>\n",
       "      <td>-0.020581</td>\n",
       "      <td>0.506625</td>\n",
       "      <td>2.457603</td>\n",
       "      <td>-0.010281</td>\n",
       "      <td>-1.635157</td>\n",
       "      <td>-0.000083</td>\n",
       "      <td>1.928913</td>\n",
       "      <td>0.092874</td>\n",
       "      <td>-0.567258</td>\n",
       "      <td>0.808782</td>\n",
       "      <td>-1.001080</td>\n",
       "      <td>-0.923161</td>\n",
       "    </tr>\n",
       "    <tr>\n",
       "      <th>1</th>\n",
       "      <td>0.215444</td>\n",
       "      <td>-1.235330</td>\n",
       "      <td>-0.192592</td>\n",
       "      <td>0.509224</td>\n",
       "      <td>-0.657723</td>\n",
       "      <td>-0.778374</td>\n",
       "      <td>-1.718573</td>\n",
       "      <td>-0.693486</td>\n",
       "      <td>0.495555</td>\n",
       "      <td>-0.968792</td>\n",
       "      <td>-0.734406</td>\n",
       "      <td>-0.702845</td>\n",
       "      <td>0.273690</td>\n",
       "      <td>-0.153645</td>\n",
       "    </tr>\n",
       "    <tr>\n",
       "      <th>2</th>\n",
       "      <td>0.337583</td>\n",
       "      <td>-0.175317</td>\n",
       "      <td>-0.199826</td>\n",
       "      <td>0.352163</td>\n",
       "      <td>-0.380149</td>\n",
       "      <td>-0.841548</td>\n",
       "      <td>0.066418</td>\n",
       "      <td>-0.833509</td>\n",
       "      <td>-0.103088</td>\n",
       "      <td>-0.749528</td>\n",
       "      <td>0.028360</td>\n",
       "      <td>-0.390404</td>\n",
       "      <td>0.544726</td>\n",
       "      <td>-0.085062</td>\n",
       "    </tr>\n",
       "    <tr>\n",
       "      <th>3</th>\n",
       "      <td>-1.080441</td>\n",
       "      <td>1.581900</td>\n",
       "      <td>-0.200571</td>\n",
       "      <td>-2.294296</td>\n",
       "      <td>-0.630449</td>\n",
       "      <td>-0.542046</td>\n",
       "      <td>0.772930</td>\n",
       "      <td>-0.627198</td>\n",
       "      <td>-0.995229</td>\n",
       "      <td>-0.421995</td>\n",
       "      <td>-0.747170</td>\n",
       "      <td>-0.925969</td>\n",
       "      <td>-1.647432</td>\n",
       "      <td>-1.832618</td>\n",
       "    </tr>\n",
       "    <tr>\n",
       "      <th>4</th>\n",
       "      <td>1.920171</td>\n",
       "      <td>2.166203</td>\n",
       "      <td>-0.208622</td>\n",
       "      <td>-0.839829</td>\n",
       "      <td>-0.926588</td>\n",
       "      <td>-0.884865</td>\n",
       "      <td>0.904880</td>\n",
       "      <td>-0.879123</td>\n",
       "      <td>-0.932438</td>\n",
       "      <td>-0.807563</td>\n",
       "      <td>0.141575</td>\n",
       "      <td>-0.657284</td>\n",
       "      <td>0.269023</td>\n",
       "      <td>0.218319</td>\n",
       "    </tr>\n",
       "  </tbody>\n",
       "</table>\n",
       "</div>"
      ],
      "text/plain": [
       "   B_OWNPV_CHI2  B_IPCHI2_OWNPV  B_FDCHI2_OWNPV  B_DIRA_OWNPV      B_PT  \\\n",
       "0     -0.132425       -0.076019       -0.020581      0.506625  2.457603   \n",
       "1      0.215444       -1.235330       -0.192592      0.509224 -0.657723   \n",
       "2      0.337583       -0.175317       -0.199826      0.352163 -0.380149   \n",
       "3     -1.080441        1.581900       -0.200571     -2.294296 -0.630449   \n",
       "4      1.920171        2.166203       -0.208622     -0.839829 -0.926588   \n",
       "\n",
       "   Kst_892_0_IP_OWNPV  Kst_892_0_cosThetaH  Kplus_IP_OWNPV   Kplus_P  \\\n",
       "0           -0.010281            -1.635157       -0.000083  1.928913   \n",
       "1           -0.778374            -1.718573       -0.693486  0.495555   \n",
       "2           -0.841548             0.066418       -0.833509 -0.103088   \n",
       "3           -0.542046             0.772930       -0.627198 -0.995229   \n",
       "4           -0.884865             0.904880       -0.879123 -0.932438   \n",
       "\n",
       "   piminus_IP_OWNPV  piminus_P  gamma_PT  piminus_ETA  Kplus_ETA  \n",
       "0          0.092874  -0.567258  0.808782    -1.001080  -0.923161  \n",
       "1         -0.968792  -0.734406 -0.702845     0.273690  -0.153645  \n",
       "2         -0.749528   0.028360 -0.390404     0.544726  -0.085062  \n",
       "3         -0.421995  -0.747170 -0.925969    -1.647432  -1.832618  \n",
       "4         -0.807563   0.141575 -0.657284     0.269023   0.218319  "
      ]
     },
     "execution_count": 3,
     "metadata": {},
     "output_type": "execute_result"
    }
   ],
   "source": [
    "import pandas as pd\n",
    "from sklearn.preprocessing import StandardScaler\n",
    "\n",
    "data = pd.read_csv(\"data/train.csv\")\n",
    "data.drop([\"Id\", \"BUTTER\"], axis=1, inplace=True)\n",
    "features = data.columns\n",
    "features = [feat.strip() for feat in features]\n",
    "data.columns = features\n",
    "\n",
    "sc = StandardScaler()\n",
    "\n",
    "\n",
    "scaled = sc.fit_transform(data.iloc[:, :-1].values)\n",
    "\n",
    "X = pd.DataFrame(data=scaled, columns=data.columns[:-1])\n",
    "y = data.iloc[:, -1] \n",
    "\n",
    "X.head()"
   ]
  },
  {
   "cell_type": "code",
   "execution_count": 4,
   "metadata": {},
   "outputs": [],
   "source": [
    "# stratify ensures test and train datasets have the same proportion of each class as y\n",
    "X_train, X_test, y_train, y_test = train_test_split(X, y, stratify=y, test_size=.3, random_state=42)"
   ]
  },
  {
   "cell_type": "code",
   "execution_count": 5,
   "metadata": {},
   "outputs": [
    {
     "data": {
      "text/plain": [
       "['B_OWNPV_CHI2',\n",
       " 'B_IPCHI2_OWNPV',\n",
       " 'B_FDCHI2_OWNPV',\n",
       " 'B_DIRA_OWNPV',\n",
       " 'B_PT',\n",
       " 'Kst_892_0_IP_OWNPV',\n",
       " 'Kst_892_0_cosThetaH',\n",
       " 'Kplus_IP_OWNPV',\n",
       " 'Kplus_P',\n",
       " 'piminus_IP_OWNPV',\n",
       " 'piminus_P',\n",
       " 'gamma_PT',\n",
       " 'piminus_ETA',\n",
       " 'Kplus_ETA',\n",
       " 'signal']"
      ]
     },
     "execution_count": 5,
     "metadata": {},
     "output_type": "execute_result"
    }
   ],
   "source": [
    "features"
   ]
  },
  {
   "cell_type": "markdown",
   "metadata": {},
   "source": [
    "## The model (XGBoost)"
   ]
  },
  {
   "cell_type": "code",
   "execution_count": 6,
   "metadata": {},
   "outputs": [],
   "source": [
    "# XGBoost\n",
    "xgb_model = Pipeline([#(\"preprocessor\", preprocessor), \n",
    "                      # Add a scale_pos_weight to make it balanced\n",
    "                      (\"model\", XGBClassifier(scale_pos_weight=(1 - y.mean()), n_jobs=-1))])"
   ]
  },
  {
   "cell_type": "code",
   "execution_count": 7,
   "metadata": {},
   "outputs": [
    {
     "name": "stderr",
     "output_type": "stream",
     "text": [
      "/home/bambusito/anaconda3/lib/python3.8/site-packages/xgboost/sklearn.py:892: UserWarning: The use of label encoder in XGBClassifier is deprecated and will be removed in a future release. To remove this warning, do the following: 1) Pass option use_label_encoder=False when constructing XGBClassifier object; and 2) Encode your labels (y) as integers starting with 0, i.e. 0, 1, 2, ..., [num_class - 1].\n",
      "  warnings.warn(label_encoder_deprecation_msg, UserWarning)\n"
     ]
    },
    {
     "name": "stdout",
     "output_type": "stream",
     "text": [
      "[21:20:32] WARNING: ../src/learner.cc:1061: Starting in XGBoost 1.3.0, the default evaluation metric used with the objective 'binary:logistic' was changed from 'error' to 'logloss'. Explicitly set eval_metric if you'd like to restore the old behavior.\n"
     ]
    },
    {
     "data": {
      "text/plain": [
       "GridSearchCV(cv=5,\n",
       "             estimator=Pipeline(steps=[('model',\n",
       "                                        XGBClassifier(base_score=None,\n",
       "                                                      booster=None,\n",
       "                                                      colsample_bylevel=None,\n",
       "                                                      colsample_bynode=None,\n",
       "                                                      colsample_bytree=None,\n",
       "                                                      gamma=None, gpu_id=None,\n",
       "                                                      importance_type='gain',\n",
       "                                                      interaction_constraints=None,\n",
       "                                                      learning_rate=None,\n",
       "                                                      max_delta_step=None,\n",
       "                                                      max_depth=None,\n",
       "                                                      min_child_weight=None,\n",
       "                                                      missing=nan,\n",
       "                                                      monotone_constraints=None,\n",
       "                                                      n_estimators=100,\n",
       "                                                      n_jobs=-1,\n",
       "                                                      num_parallel_tree=None,\n",
       "                                                      random_state=None,\n",
       "                                                      reg_alpha=None,\n",
       "                                                      reg_lambda=None,\n",
       "                                                      scale_pos_weight=0.665995805550592,\n",
       "                                                      subsample=None,\n",
       "                                                      tree_method=None,\n",
       "                                                      validate_parameters=None,\n",
       "                                                      verbosity=None))]),\n",
       "             n_jobs=-1,\n",
       "             param_grid={'model__max_depth': [5, 10],\n",
       "                         'model__min_child_weight': [5, 10],\n",
       "                         'model__n_estimators': [25]},\n",
       "             scoring='accuracy')"
      ]
     },
     "execution_count": 7,
     "metadata": {},
     "output_type": "execute_result"
    }
   ],
   "source": [
    "gs = GridSearchCV(xgb_model, {\"model__max_depth\": [5, 10],\n",
    "                              \"model__min_child_weight\": [5, 10],\n",
    "                              \"model__n_estimators\": [25]},\n",
    "                  n_jobs=-1, cv=5, scoring=\"accuracy\")\n",
    "\n",
    "gs.fit(X_train, y_train)"
   ]
  },
  {
   "cell_type": "markdown",
   "metadata": {},
   "source": [
    "Best params and evaluation"
   ]
  },
  {
   "cell_type": "code",
   "execution_count": 8,
   "metadata": {},
   "outputs": [
    {
     "name": "stdout",
     "output_type": "stream",
     "text": [
      "{'model__max_depth': 10, 'model__min_child_weight': 10, 'model__n_estimators': 25}\n",
      "0.7733822693374719\n",
      "[21:20:50] WARNING: ../src/learner.cc:1061: Starting in XGBoost 1.3.0, the default evaluation metric used with the objective 'binary:logistic' was changed from 'error' to 'logloss'. Explicitly set eval_metric if you'd like to restore the old behavior.\n"
     ]
    },
    {
     "data": {
      "text/plain": [
       "Pipeline(steps=[('model',\n",
       "                 XGBClassifier(base_score=0.5, booster='gbtree',\n",
       "                               colsample_bylevel=1, colsample_bynode=1,\n",
       "                               colsample_bytree=1, gamma=0, gpu_id=-1,\n",
       "                               importance_type='gain',\n",
       "                               interaction_constraints='',\n",
       "                               learning_rate=0.300000012, max_delta_step=0,\n",
       "                               max_depth=10, min_child_weight=10, missing=nan,\n",
       "                               monotone_constraints='()', n_estimators=25,\n",
       "                               n_jobs=-1, num_parallel_tree=1, random_state=0,\n",
       "                               reg_alpha=0, reg_lambda=1,\n",
       "                               scale_pos_weight=0.665995805550592, subsample=1,\n",
       "                               tree_method='exact', validate_parameters=1,\n",
       "                               verbosity=None))])"
      ]
     },
     "execution_count": 8,
     "metadata": {},
     "output_type": "execute_result"
    }
   ],
   "source": [
    "print(gs.best_params_)\n",
    "print(gs.best_score_)\n",
    "xgb_model.set_params(**gs.best_params_)\n",
    "xgb_model.fit(X_train, y_train)"
   ]
  },
  {
   "cell_type": "markdown",
   "metadata": {},
   "source": [
    "## Using InterpretML\n",
    "\n",
    "### Checking the data\n",
    "The outcome is a drop-down menu for the “Summary” (the histogram of the target value) and each variable. When  choosing a variable, it shows the Pearson Correlation with the target value, followed by the histogram of the chosen variable in blue and the histogram of the target value in red."
   ]
  },
  {
   "cell_type": "code",
   "execution_count": 9,
   "metadata": {},
   "outputs": [
    {
     "data": {
      "text/html": [
       "<!-- http://127.0.0.1:7001/139760894492784/ -->\n",
       "<iframe src=\"http://127.0.0.1:7001/139760894492784/\" width=100% height=800 frameBorder=\"0\"></iframe>"
      ]
     },
     "metadata": {},
     "output_type": "display_data"
    }
   ],
   "source": [
    "from interpret import show\n",
    "from interpret.data import Marginal\n",
    "\n",
    "marginal = Marginal().explain_data(X_train, y_train, name = 'Train Data')\n",
    "show(marginal)"
   ]
  },
  {
   "cell_type": "markdown",
   "metadata": {},
   "source": [
    "### Assessing performance"
   ]
  },
  {
   "cell_type": "code",
   "execution_count": 10,
   "metadata": {},
   "outputs": [
    {
     "data": {
      "text/html": [
       "<!-- http://127.0.0.1:7001/139759491344512/ -->\n",
       "<iframe src=\"http://127.0.0.1:7001/139759491344512/\" width=100% height=800 frameBorder=\"0\"></iframe>"
      ]
     },
     "metadata": {},
     "output_type": "display_data"
    }
   ],
   "source": [
    "from interpret import show\n",
    "from interpret.perf import ROC\n",
    "\n",
    "blackbox_model = xgb_model\n",
    "blackbox_perf = ROC(blackbox_model.predict_proba).explain_perf(X_test, y_test, name='Blackbox')\n",
    "show(blackbox_perf)"
   ]
  },
  {
   "cell_type": "markdown",
   "metadata": {},
   "source": [
    "### Global interpretability\n"
   ]
  },
  {
   "cell_type": "markdown",
   "metadata": {},
   "source": [
    "#### Global feature importance and Morris analysis of each feature\n",
    "\n",
    "Useful for deciding which features to concentrate on."
   ]
  },
  {
   "cell_type": "code",
   "execution_count": 11,
   "metadata": {},
   "outputs": [
    {
     "data": {
      "text/html": [
       "<!-- http://127.0.0.1:7001/139759491895744/ -->\n",
       "<iframe src=\"http://127.0.0.1:7001/139759491895744/\" width=100% height=800 frameBorder=\"0\"></iframe>"
      ]
     },
     "metadata": {},
     "output_type": "display_data"
    }
   ],
   "source": [
    "from interpret.blackbox import MorrisSensitivity\n",
    "\n",
    "sensitivity = MorrisSensitivity(predict_fn=blackbox_model.predict_proba, data=X_train)\n",
    "sensitivity_global = sensitivity.explain_global(name=\"Global Sensitivity\")\n",
    "\n",
    "show(sensitivity_global)"
   ]
  },
  {
   "cell_type": "markdown",
   "metadata": {},
   "source": [
    "#### Partial dependence plots\n",
    "\n",
    "Show the global relation of each feature to the target value (you have to select the feature on the widget). This is useful to decide how to transform important features: for instance, Kplus_P has a positive linear correlation with y from -1.3 to 0 (y ranging from 0.03 to 0.3), at the interval where it is more frequent, and starts saturating afterwards. This means that it mostly contributes to the noise (y=0) and that transforming it would be useless (since the relation is linear)."
   ]
  },
  {
   "cell_type": "code",
   "execution_count": 12,
   "metadata": {},
   "outputs": [
    {
     "data": {
      "text/html": [
       "<!-- http://127.0.0.1:7001/139759491591616/ -->\n",
       "<iframe src=\"http://127.0.0.1:7001/139759491591616/\" width=100% height=800 frameBorder=\"0\"></iframe>"
      ]
     },
     "metadata": {},
     "output_type": "display_data"
    }
   ],
   "source": [
    "from interpret.blackbox import PartialDependence\n",
    "\n",
    "pdp = PartialDependence(predict_fn=blackbox_model.predict_proba, data=X_train)\n",
    "pdp_global = pdp.explain_global(name='Partial Dependence')\n",
    "\n",
    "show(pdp_global)"
   ]
  },
  {
   "cell_type": "markdown",
   "metadata": {},
   "source": [
    "### Local explanations\n",
    "\n",
    "Via LIME and SHAP. Click on the predictions to see the corresponding explanation."
   ]
  },
  {
   "cell_type": "code",
   "execution_count": 13,
   "metadata": {},
   "outputs": [
    {
     "data": {
      "text/html": [
       "<!-- http://127.0.0.1:7001/139759458996080/ -->\n",
       "<iframe src=\"http://127.0.0.1:7001/139759458996080/\" width=100% height=800 frameBorder=\"0\"></iframe>"
      ]
     },
     "metadata": {},
     "output_type": "display_data"
    }
   ],
   "source": [
    "from interpret.blackbox import LimeTabular\n",
    "from interpret import show\n",
    "\n",
    "#Blackbox explainers need a predict function, and optionally a dataset\n",
    "lime = LimeTabular(predict_fn=blackbox_model.predict_proba, data=X_train, random_state=1)\n",
    "\n",
    "#Pick the instances to explain, optionally pass in labels if you have them\n",
    "lime_local = lime.explain_local(X_test[:5], y_test[:5], name='LIME')\n",
    "\n",
    "show(lime_local)"
   ]
  },
  {
   "cell_type": "code",
   "execution_count": 14,
   "metadata": {},
   "outputs": [
    {
     "data": {
      "application/vnd.jupyter.widget-view+json": {
       "model_id": "e55105b176c2413082468db15ef3a356",
       "version_major": 2,
       "version_minor": 0
      },
      "text/plain": [
       "HBox(children=(HTML(value=''), FloatProgress(value=0.0, max=5.0), HTML(value='')))"
      ]
     },
     "metadata": {},
     "output_type": "display_data"
    },
    {
     "name": "stdout",
     "output_type": "stream",
     "text": [
      "\n"
     ]
    },
    {
     "data": {
      "text/html": [
       "<!-- http://127.0.0.1:7001/139757012057104/ -->\n",
       "<iframe src=\"http://127.0.0.1:7001/139757012057104/\" width=100% height=800 frameBorder=\"0\"></iframe>"
      ]
     },
     "metadata": {},
     "output_type": "display_data"
    }
   ],
   "source": [
    "from interpret.blackbox import ShapKernel\n",
    "import numpy as np\n",
    "\n",
    "background_val = np.median(X_train, axis=0).reshape(1, -1)\n",
    "shap = ShapKernel(predict_fn=blackbox_model.predict_proba, data=background_val, feature_names=X_test.columns)\n",
    "shap_local = shap.explain_local(X_test[:5], y_test[:5], name='SHAP')\n",
    "show(shap_local)"
   ]
  },
  {
   "cell_type": "markdown",
   "metadata": {},
   "source": [
    "### Putting everything on a dahsboard\n",
    "\n",
    "All the above information is available by navigating the dashboard."
   ]
  },
  {
   "cell_type": "code",
   "execution_count": 15,
   "metadata": {},
   "outputs": [
    {
     "data": {
      "text/html": [
       "<!-- http://127.0.0.1:7001/139757003113856/ -->\n",
       "<a href=\"http://127.0.0.1:7001/139757003113856/\" target=\"_new\">Open in new window</a><iframe src=\"http://127.0.0.1:7001/139757003113856/\" width=100% height=800 frameBorder=\"0\"></iframe>"
      ]
     },
     "metadata": {},
     "output_type": "display_data"
    }
   ],
   "source": [
    "show([marginal, blackbox_perf, lime_local, shap_local, sensitivity_global, pdp_global])\n"
   ]
  },
  {
   "cell_type": "code",
   "execution_count": null,
   "metadata": {},
   "outputs": [],
   "source": []
  }
 ],
 "metadata": {
  "colab": {
   "collapsed_sections": [],
   "machine_shape": "hm",
   "name": "LIME.ipynb",
   "provenance": []
  },
  "kernelspec": {
   "display_name": "Python 3",
   "language": "python",
   "name": "python3"
  },
  "language_info": {
   "codemirror_mode": {
    "name": "ipython",
    "version": 3
   },
   "file_extension": ".py",
   "mimetype": "text/x-python",
   "name": "python",
   "nbconvert_exporter": "python",
   "pygments_lexer": "ipython3",
   "version": "3.8.3"
  }
 },
 "nbformat": 4,
 "nbformat_minor": 1
}
